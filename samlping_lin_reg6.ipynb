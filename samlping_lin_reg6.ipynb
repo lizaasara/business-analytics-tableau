{
  "nbformat": 4,
  "nbformat_minor": 0,
  "metadata": {
    "colab": {
      "provenance": [],
      "authorship_tag": "ABX9TyPvOG74xa8i6rrWgsgeGDld",
      "include_colab_link": true
    },
    "kernelspec": {
      "name": "python3",
      "display_name": "Python 3"
    },
    "language_info": {
      "name": "python"
    }
  },
  "cells": [
    {
      "cell_type": "markdown",
      "metadata": {
        "id": "view-in-github",
        "colab_type": "text"
      },
      "source": [
        "<a href=\"https://colab.research.google.com/github/lizaasara/business-analytics-tableau/blob/main/samlping_lin_reg6.ipynb\" target=\"_parent\"><img src=\"https://colab.research.google.com/assets/colab-badge.svg\" alt=\"Open In Colab\"/></a>"
      ]
    },
    {
      "cell_type": "code",
      "execution_count": 1,
      "metadata": {
        "id": "PXdDV0Z2P7hR"
      },
      "outputs": [],
      "source": [
        "import numpy as np\n",
        "import matplotlib.pyplot as plt\n",
        "import pandas as pd"
      ]
    },
    {
      "cell_type": "code",
      "source": [
        "dp=pd.read_csv('lenovo.csv')"
      ],
      "metadata": {
        "id": "rw65SBRqQBDB"
      },
      "execution_count": 7,
      "outputs": []
    },
    {
      "cell_type": "code",
      "source": [
        "x_questionbank = dp.iloc[0:200,0:1]\n",
        "print(x_questionbank)"
      ],
      "metadata": {
        "colab": {
          "base_uri": "https://localhost:8080/"
        },
        "id": "xupj4JNYQPvJ",
        "outputId": "4708a023-6dea-4b73-d3d8-d4fc2850fb9a"
      },
      "execution_count": 8,
      "outputs": [
        {
          "output_type": "stream",
          "name": "stdout",
          "text": [
            "      Date\n",
            "0      1.0\n",
            "1      2.0\n",
            "2      3.0\n",
            "3      4.0\n",
            "4      5.0\n",
            "..     ...\n",
            "195  196.0\n",
            "196  197.0\n",
            "197  198.0\n",
            "198  199.0\n",
            "199  200.0\n",
            "\n",
            "[200 rows x 1 columns]\n"
          ]
        }
      ]
    },
    {
      "cell_type": "code",
      "source": [
        "x_test =dp.iloc[200:249,0:1].values\n",
        "print(x_test)"
      ],
      "metadata": {
        "colab": {
          "base_uri": "https://localhost:8080/"
        },
        "id": "FSLoGbJvQqHl",
        "outputId": "eeb60d5f-76b1-45d7-ee23-82c39e21f821"
      },
      "execution_count": 10,
      "outputs": [
        {
          "output_type": "stream",
          "name": "stdout",
          "text": [
            "[[201.]\n",
            " [202.]\n",
            " [203.]\n",
            " [204.]\n",
            " [205.]\n",
            " [206.]\n",
            " [207.]\n",
            " [208.]\n",
            " [209.]\n",
            " [210.]\n",
            " [211.]\n",
            " [212.]\n",
            " [213.]\n",
            " [214.]\n",
            " [215.]\n",
            " [216.]\n",
            " [217.]\n",
            " [218.]\n",
            " [219.]\n",
            " [220.]\n",
            " [221.]\n",
            " [222.]\n",
            " [223.]\n",
            " [224.]\n",
            " [225.]\n",
            " [226.]\n",
            " [227.]\n",
            " [228.]\n",
            " [229.]\n",
            " [230.]\n",
            " [231.]\n",
            " [232.]\n",
            " [233.]\n",
            " [234.]\n",
            " [235.]\n",
            " [236.]\n",
            " [237.]\n",
            " [238.]\n",
            " [239.]\n",
            " [240.]\n",
            " [241.]\n",
            " [242.]\n",
            " [243.]\n",
            " [244.]\n",
            " [245.]\n",
            " [246.]]\n"
          ]
        }
      ]
    },
    {
      "cell_type": "code",
      "source": [
        "y_test =dp.iloc[200:249,1].values\n",
        "print(y_test)"
      ],
      "metadata": {
        "colab": {
          "base_uri": "https://localhost:8080/"
        },
        "id": "AsKAIdS1RyfS",
        "outputId": "a011f3de-9ac0-43d2-817c-0c65489e318f"
      },
      "execution_count": 11,
      "outputs": [
        {
          "output_type": "stream",
          "name": "stdout",
          "text": [
            "[6.41 6.4  6.22 6.22 6.35 6.32 6.43 6.43 6.5  6.26 6.57 6.58 6.44 6.41\n",
            " 6.45 6.44 6.36 6.45 6.28 6.04 6.03 5.98 6.05 6.31 6.43 6.25 6.27 6.27\n",
            " 6.36 6.34 6.39 6.32 6.34 6.57 6.71 6.5  6.6  6.62 6.62 6.97 6.78 7.\n",
            " 6.92 6.9  7.21 7.05]\n"
          ]
        }
      ]
    },
    {
      "cell_type": "code",
      "source": [],
      "metadata": {
        "id": "giRk7J2PTEBE"
      },
      "execution_count": null,
      "outputs": []
    },
    {
      "cell_type": "code",
      "source": [
        "y_questionbank=dp.iloc[0:200,1].values\n",
        "print(y_questionbank)"
      ],
      "metadata": {
        "colab": {
          "base_uri": "https://localhost:8080/"
        },
        "id": "JpF1lLjTSnts",
        "outputId": "fe08fd61-29bb-45bf-8b40-0a70f7770c9a"
      },
      "execution_count": 13,
      "outputs": [
        {
          "output_type": "stream",
          "name": "stdout",
          "text": [
            "[8.66 8.65 8.59 8.65 8.32 7.73 7.73 7.55 7.7  7.74 7.78 7.46 7.44 7.75\n",
            " 7.96 8.07 7.99 8.21 8.18 8.34 8.3  8.39 8.41 8.48 8.5  8.65 8.88 8.24\n",
            " 8.45 8.42 8.1  7.76 7.77 7.74 7.67 7.9  7.63 7.6  7.5  7.06 7.29 7.32\n",
            " 7.6  7.54 7.76 7.57 7.57 8.15 8.16 7.98 7.99 8.09 8.11 8.05 8.   7.94\n",
            " 7.62 7.37 7.19 7.4  7.55 7.54 7.75 7.48 7.47 7.55 7.81 7.71 7.62 7.46\n",
            " 7.41 7.45 7.26 7.03 7.16 7.34 7.36 7.26 7.32 7.49 7.7  7.75 7.5  7.29\n",
            " 7.35 7.2  7.06 7.26 7.08 7.13 7.09 7.07 7.15 7.15 7.04 7.16 7.21 7.36\n",
            " 7.34 7.5  7.46 7.59 7.6  7.28 7.11 7.07 6.95 7.1  7.03 7.16 7.06 7.\n",
            " 7.04 7.06 7.02 6.95 6.9  6.93 7.03 6.99 6.91 6.63 6.81 6.73 6.57 6.34\n",
            " 6.49 6.4  6.25 6.2  6.13 6.06 6.02 6.12 6.19 6.11 6.   6.   6.18 6.05\n",
            " 5.9  5.86 5.8  5.83 5.77 5.68 5.38 5.35 5.6  5.72 5.63 5.34 5.47 5.41\n",
            " 5.49 5.46 5.53 5.64 5.67 5.56 5.75 5.52 5.75 5.84 6.08 6.15 6.15 6.14\n",
            " 6.24 5.7  5.92 6.03 6.33 6.38 6.37 6.69 6.83 6.64 6.75 6.69 6.74 6.39\n",
            " 6.38 6.38 6.42 6.52 6.12 6.4  6.44 6.68 6.38 6.4  6.28 6.28 6.05 6.04\n",
            " 6.04 6.15 6.27 6.35]\n"
          ]
        }
      ]
    },
    {
      "cell_type": "code",
      "source": [
        "from sklearn.linear_model import LinearRegression\n",
        "regressor = LinearRegression()\n",
        "regressor.fit(x_questionbank,y_questionbank)"
      ],
      "metadata": {
        "colab": {
          "base_uri": "https://localhost:8080/"
        },
        "id": "UtKMTDf_S7VE",
        "outputId": "5ab30307-40b7-4a63-8c83-2b372e22da9c"
      },
      "execution_count": 14,
      "outputs": [
        {
          "output_type": "execute_result",
          "data": {
            "text/plain": [
              "LinearRegression()"
            ]
          },
          "metadata": {},
          "execution_count": 14
        }
      ]
    },
    {
      "cell_type": "code",
      "source": [
        "regressor.predict(x_test)"
      ],
      "metadata": {
        "colab": {
          "base_uri": "https://localhost:8080/"
        },
        "id": "_DkFPn8ATjM5",
        "outputId": "c9037167-774f-4b75-facb-f808eb72ff51"
      },
      "execution_count": 15,
      "outputs": [
        {
          "output_type": "stream",
          "name": "stderr",
          "text": [
            "/usr/local/lib/python3.8/dist-packages/sklearn/base.py:450: UserWarning: X does not have valid feature names, but LinearRegression was fitted with feature names\n",
            "  warnings.warn(\n"
          ]
        },
        {
          "output_type": "execute_result",
          "data": {
            "text/plain": [
              "array([5.7116995 , 5.69876467, 5.68582984, 5.672895  , 5.65996017,\n",
              "       5.64702534, 5.63409051, 5.62115568, 5.60822085, 5.59528602,\n",
              "       5.58235119, 5.56941636, 5.55648153, 5.5435467 , 5.53061187,\n",
              "       5.51767703, 5.5047422 , 5.49180737, 5.47887254, 5.46593771,\n",
              "       5.45300288, 5.44006805, 5.42713322, 5.41419839, 5.40126356,\n",
              "       5.38832873, 5.37539389, 5.36245906, 5.34952423, 5.3365894 ,\n",
              "       5.32365457, 5.31071974, 5.29778491, 5.28485008, 5.27191525,\n",
              "       5.25898042, 5.24604559, 5.23311076, 5.22017592, 5.20724109,\n",
              "       5.19430626, 5.18137143, 5.1684366 , 5.15550177, 5.14256694,\n",
              "       5.12963211])"
            ]
          },
          "metadata": {},
          "execution_count": 15
        }
      ]
    },
    {
      "cell_type": "code",
      "source": [
        "plt.scatter(x_questionbank,y_questionbank,color ='green')\n",
        "plt.scatter(x_test,y_test, color ='blue')\n",
        "plt.plot(x_test,regressor.predict(x_test),color='red')\n",
        "plt.xlabel('date')\n",
        "plt.ylabel('price')"
      ],
      "metadata": {
        "colab": {
          "base_uri": "https://localhost:8080/",
          "height": 352
        },
        "id": "vBnTggmdTodk",
        "outputId": "a1fe467b-add2-4b1b-e737-37e7a346b285"
      },
      "execution_count": 16,
      "outputs": [
        {
          "output_type": "stream",
          "name": "stderr",
          "text": [
            "/usr/local/lib/python3.8/dist-packages/sklearn/base.py:450: UserWarning: X does not have valid feature names, but LinearRegression was fitted with feature names\n",
            "  warnings.warn(\n"
          ]
        },
        {
          "output_type": "execute_result",
          "data": {
            "text/plain": [
              "Text(0, 0.5, 'price')"
            ]
          },
          "metadata": {},
          "execution_count": 16
        },
        {
          "output_type": "display_data",
          "data": {
            "text/plain": [
              "<Figure size 432x288 with 1 Axes>"
            ],
            "image/png": "[encoded data removed]"
          },
          "metadata": {
            "needs_background": "light"
          }
        }
      ]
    },
    {
      "cell_type": "code",
      "source": [],
      "metadata": {
        "id": "GrMMFQXlUXcN"
      },
      "execution_count": null,
      "outputs": []
    }
  ]
}