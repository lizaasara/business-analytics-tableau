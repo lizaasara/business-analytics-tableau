{
  "nbformat": 4,
  "nbformat_minor": 0,
  "metadata": {
    "colab": {
      "provenance": [],
      "authorship_tag": "ABX9TyPSld7/RRfbMiub5LV6iRTs",
      "include_colab_link": true
    },
    "kernelspec": {
      "name": "python3",
      "display_name": "Python 3"
    },
    "language_info": {
      "name": "python"
    }
  },
  "cells": [
    {
      "cell_type": "markdown",
      "metadata": {
        "id": "view-in-github",
        "colab_type": "text"
      },
      "source": [
        "<a href=\"https://colab.research.google.com/github/lizaasara/business-analytics-tableau/blob/main/decision_tree.ipynb\" target=\"_parent\"><img src=\"https://colab.research.google.com/assets/colab-badge.svg\" alt=\"Open In Colab\"/></a>"
      ]
    },
    {
      "cell_type": "code",
      "execution_count": 1,
      "metadata": {
        "id": "bTJLwMaxOCuh"
      },
      "outputs": [],
      "source": [
        "import numpy as np\n",
        "import matplotlib.pyplot as plt\n",
        "import pandas as pd\n"
      ]
    },
    {
      "cell_type": "code",
      "source": [
        "dataset = pd.read_csv('MARUTI.NS.csv')"
      ],
      "metadata": {
        "id": "ImE_uo9PQED9"
      },
      "execution_count": 3,
      "outputs": []
    },
    {
      "cell_type": "code",
      "source": [
        "x = dataset.iloc[:, :-1].values\n",
        "x\n"
      ],
      "metadata": {
        "colab": {
          "base_uri": "https://localhost:8080/"
        },
        "id": "9mjXXRVpQJ51",
        "outputId": "a59a8743-cde2-4d05-a96a-7616c6dbd425"
      },
      "execution_count": 5,
      "outputs": [
        {
          "output_type": "execute_result",
          "data": {
            "text/plain": [
              "array([[  1.],\n",
              "       [  2.],\n",
              "       [  3.],\n",
              "       [  4.],\n",
              "       [  5.],\n",
              "       [  6.],\n",
              "       [  7.],\n",
              "       [  8.],\n",
              "       [  9.],\n",
              "       [ 10.],\n",
              "       [ 11.],\n",
              "       [ 12.],\n",
              "       [ 13.],\n",
              "       [ 14.],\n",
              "       [ 15.],\n",
              "       [ 16.],\n",
              "       [ 17.],\n",
              "       [ 18.],\n",
              "       [ 19.],\n",
              "       [ 20.],\n",
              "       [ 21.],\n",
              "       [ 22.],\n",
              "       [ 23.],\n",
              "       [ 24.],\n",
              "       [ 25.],\n",
              "       [ 26.],\n",
              "       [ 27.],\n",
              "       [ 28.],\n",
              "       [ 29.],\n",
              "       [ 30.],\n",
              "       [ 31.],\n",
              "       [ 32.],\n",
              "       [ 33.],\n",
              "       [ 34.],\n",
              "       [ 35.],\n",
              "       [ 36.],\n",
              "       [ 37.],\n",
              "       [ 38.],\n",
              "       [ 39.],\n",
              "       [ 40.],\n",
              "       [ 41.],\n",
              "       [ 42.],\n",
              "       [ 43.],\n",
              "       [ 44.],\n",
              "       [ 45.],\n",
              "       [ 46.],\n",
              "       [ 47.],\n",
              "       [ 48.],\n",
              "       [ 49.],\n",
              "       [ 50.],\n",
              "       [ 51.],\n",
              "       [ 52.],\n",
              "       [ 53.],\n",
              "       [ 54.],\n",
              "       [ 55.],\n",
              "       [ 56.],\n",
              "       [ 57.],\n",
              "       [ 58.],\n",
              "       [ 59.],\n",
              "       [ 60.],\n",
              "       [ 61.],\n",
              "       [ 62.],\n",
              "       [ 63.],\n",
              "       [ 64.],\n",
              "       [ 65.],\n",
              "       [ 66.],\n",
              "       [ 67.],\n",
              "       [ 68.],\n",
              "       [ 69.],\n",
              "       [ 70.],\n",
              "       [ 71.],\n",
              "       [ 72.],\n",
              "       [ 73.],\n",
              "       [ 74.],\n",
              "       [ 75.],\n",
              "       [ 76.],\n",
              "       [ 77.],\n",
              "       [ 78.],\n",
              "       [ 79.],\n",
              "       [ 80.],\n",
              "       [ 81.],\n",
              "       [ 82.],\n",
              "       [ 83.],\n",
              "       [ 84.],\n",
              "       [ 85.],\n",
              "       [ 86.],\n",
              "       [ 87.],\n",
              "       [ 88.],\n",
              "       [ 89.],\n",
              "       [ 90.],\n",
              "       [ 91.],\n",
              "       [ 92.],\n",
              "       [ 93.],\n",
              "       [ 94.],\n",
              "       [ 95.],\n",
              "       [ 96.],\n",
              "       [ 97.],\n",
              "       [ 98.],\n",
              "       [ 99.],\n",
              "       [100.],\n",
              "       [101.],\n",
              "       [102.],\n",
              "       [103.],\n",
              "       [104.],\n",
              "       [105.],\n",
              "       [106.],\n",
              "       [107.],\n",
              "       [108.],\n",
              "       [109.],\n",
              "       [110.],\n",
              "       [111.],\n",
              "       [112.],\n",
              "       [113.],\n",
              "       [114.],\n",
              "       [115.],\n",
              "       [116.],\n",
              "       [117.],\n",
              "       [118.],\n",
              "       [119.],\n",
              "       [120.],\n",
              "       [121.],\n",
              "       [122.],\n",
              "       [123.],\n",
              "       [124.],\n",
              "       [125.],\n",
              "       [126.],\n",
              "       [127.],\n",
              "       [128.],\n",
              "       [129.],\n",
              "       [130.],\n",
              "       [131.],\n",
              "       [132.],\n",
              "       [133.],\n",
              "       [134.],\n",
              "       [135.],\n",
              "       [136.],\n",
              "       [137.],\n",
              "       [138.],\n",
              "       [139.],\n",
              "       [140.],\n",
              "       [141.],\n",
              "       [142.],\n",
              "       [143.],\n",
              "       [144.],\n",
              "       [145.],\n",
              "       [146.],\n",
              "       [147.],\n",
              "       [148.],\n",
              "       [149.],\n",
              "       [150.],\n",
              "       [151.],\n",
              "       [152.],\n",
              "       [153.],\n",
              "       [154.],\n",
              "       [155.],\n",
              "       [156.],\n",
              "       [157.],\n",
              "       [158.],\n",
              "       [159.],\n",
              "       [160.],\n",
              "       [161.],\n",
              "       [162.],\n",
              "       [163.],\n",
              "       [164.],\n",
              "       [165.],\n",
              "       [166.],\n",
              "       [167.],\n",
              "       [168.],\n",
              "       [169.],\n",
              "       [170.],\n",
              "       [171.],\n",
              "       [172.],\n",
              "       [173.],\n",
              "       [174.],\n",
              "       [175.],\n",
              "       [176.],\n",
              "       [177.],\n",
              "       [178.],\n",
              "       [179.],\n",
              "       [180.],\n",
              "       [181.],\n",
              "       [182.],\n",
              "       [183.],\n",
              "       [184.],\n",
              "       [185.],\n",
              "       [186.],\n",
              "       [187.],\n",
              "       [188.],\n",
              "       [189.],\n",
              "       [190.],\n",
              "       [191.],\n",
              "       [192.],\n",
              "       [193.],\n",
              "       [194.],\n",
              "       [195.],\n",
              "       [196.],\n",
              "       [197.],\n",
              "       [198.],\n",
              "       [199.],\n",
              "       [200.],\n",
              "       [201.],\n",
              "       [202.],\n",
              "       [203.],\n",
              "       [204.],\n",
              "       [205.],\n",
              "       [206.],\n",
              "       [207.],\n",
              "       [208.],\n",
              "       [209.],\n",
              "       [210.],\n",
              "       [211.],\n",
              "       [212.],\n",
              "       [213.],\n",
              "       [214.],\n",
              "       [215.],\n",
              "       [216.],\n",
              "       [217.],\n",
              "       [218.],\n",
              "       [219.],\n",
              "       [220.],\n",
              "       [221.],\n",
              "       [222.],\n",
              "       [223.],\n",
              "       [224.],\n",
              "       [225.],\n",
              "       [226.],\n",
              "       [227.],\n",
              "       [228.],\n",
              "       [229.],\n",
              "       [230.],\n",
              "       [231.],\n",
              "       [232.],\n",
              "       [233.],\n",
              "       [234.],\n",
              "       [235.],\n",
              "       [236.],\n",
              "       [237.],\n",
              "       [238.],\n",
              "       [239.],\n",
              "       [240.],\n",
              "       [241.],\n",
              "       [242.],\n",
              "       [243.],\n",
              "       [244.],\n",
              "       [245.],\n",
              "       [246.],\n",
              "       [247.],\n",
              "       [248.],\n",
              "       [249.],\n",
              "       [250.]])"
            ]
          },
          "metadata": {},
          "execution_count": 5
        }
      ]
    },
    {
      "cell_type": "code",
      "source": [
        "y = dataset.iloc[:, -1].values\n",
        "y"
      ],
      "metadata": {
        "colab": {
          "base_uri": "https://localhost:8080/"
        },
        "id": "O9hn5b18QY8c",
        "outputId": "d7d1805a-edc2-4900-c20e-d5f7323afa89"
      },
      "execution_count": 6,
      "outputs": [
        {
          "output_type": "execute_result",
          "data": {
            "text/plain": [
              "array([6992.      , 6705.      , 6874.      , 7255.      , 7200.      ,\n",
              "       7050.      , 7321.      , 7570.      , 7574.      , 7844.      ,\n",
              "       7714.950195, 7800.      , 7599.299805, 7515.      , 7425.      ,\n",
              "       7535.      , 7521.      , 7598.549805, 7574.      , 7650.      ,\n",
              "       7781.      , 7739.      , 7659.75    , 7708.799805, 7614.850098,\n",
              "       7540.      , 7618.350098, 7374.5     , 7580.      , 7499.      ,\n",
              "       7709.799805, 7789.      , 7810.      , 8000.      , 7851.      ,\n",
              "       7844.      , 7918.      , 7665.      , 7650.      , 7450.      ,\n",
              "       7314.      , 7201.5     , 7350.149902, 7519.      , 7221.5     ,\n",
              "       7340.      , 7157.      , 7280.      , 7566.      , 7450.      ,\n",
              "       7520.549805, 7800.100098, 7919.      , 7840.      , 7800.      ,\n",
              "       7925.      , 7980.200195, 8013.899902, 7975.049805, 7925.      ,\n",
              "       7950.      , 7690.      , 7615.049805, 7824.      , 7848.      ,\n",
              "       7826.      , 7849.950195, 7805.      , 7816.      , 7938.      ,\n",
              "       7805.      , 7699.799805, 7714.950195, 7750.      , 7810.      ,\n",
              "       8310.      , 8444.      , 8415.25    , 8389.950195, 8500.      ,\n",
              "       8440.      , 8402.599609, 8498.5     , 8377.      , 8695.      ,\n",
              "       8620.      , 8451.700195, 8495.      , 8454.      , 8464.950195,\n",
              "       8596.      , 8802.      , 8699.950195, 8775.5     , 8793.      ,\n",
              "       8850.      , 8828.5     , 8622.      , 8555.549805, 8700.      ,\n",
              "       8764.700195, 8850.      , 8985.      , 9144.75    , 9024.      ,\n",
              "       8966.799805, 8841.200195, 8938.599609, 8955.700195, 8815.      ,\n",
              "       8737.150391, 9010.      , 8925.      , 8955.450195, 8751.      ,\n",
              "       8607.      , 8660.      , 8721.      , 8800.      , 8602.599609,\n",
              "       8884.799805, 8949.950195, 9026.5     , 8900.      , 8984.299805,\n",
              "       8864.      , 8829.      , 8834.650391, 8969.900391, 8972.299805,\n",
              "       8859.849609, 9030.049805, 9209.5     , 9175.299805, 9339.      ,\n",
              "       9300.      , 9199.      , 9397.950195, 9270.299805, 8890.      ,\n",
              "       8720.      , 8770.400391, 8668.      , 8970.      , 8699.      ,\n",
              "       8734.      , 8750.      , 8675.      , 8811.      , 8698.      ,\n",
              "       8665.      , 8760.      , 8610.      , 8765.049805, 8851.400391,\n",
              "       8700.      , 8730.      , 8788.799805, 8820.      , 9050.      ,\n",
              "       9095.      , 9650.      , 9635.      , 9445.      , 9210.      ,\n",
              "       9257.900391, 9277.      , 9480.349609, 9201.      , 9200.      ,\n",
              "       9100.      , 9190.      , 9160.      , 9101.      , 9010.      ,\n",
              "       8825.      , 8875.      , 8940.      , 8968.900391, 9000.      ,\n",
              "       9028.      , 8985.      , 8924.      , 9019.049805, 8820.      ,\n",
              "       8844.      , 8777.200195, 8720.      , 8665.      , 8707.      ,\n",
              "       8609.      , 8662.      , 8650.      , 8641.      , 8559.5     ,\n",
              "       8498.799805, 8584.400391, 8524.349609, 8356.650391, 8299.700195,\n",
              "       8147.      , 8298.950195, 8315.      , 8370.      , 8470.      ,\n",
              "       8365.      , 8380.      , 8376.      , 8444.950195, 8460.      ,\n",
              "       8424.849609, 8380.      , 8334.650391, 8315.      , 8397.      ,\n",
              "       8480.      , 8409.849609, 8473.      , 8479.      , 8462.049805,\n",
              "       8480.      , 8450.      , 8747.900391, 8828.450195, 8779.      ,\n",
              "       8856.900391, 8937.      , 8765.      , 8940.      , 8926.950195,\n",
              "       8908.      , 8773.      , 8802.299805, 8797.799805, 8787.      ,\n",
              "       8815.      , 8774.450195, 8880.      , 8787.      , 8807.75    ,\n",
              "       8694.      , 8675.5     , 8693.450195, 8711.      , 8630.      ,\n",
              "       8650.      , 8620.      , 8771.      , 8592.049805, 8640.      ])"
            ]
          },
          "metadata": {},
          "execution_count": 6
        }
      ]
    },
    {
      "cell_type": "code",
      "source": [
        "y = y.reshape(len(y),1)"
      ],
      "metadata": {
        "id": "YRoROGsbQgvW"
      },
      "execution_count": 7,
      "outputs": []
    },
    {
      "cell_type": "code",
      "source": [
        "from sklearn.tree import DecisionTreeRegressor\n",
        "regressor = DecisionTreeRegressor(random_state = 0)\n",
        "regressor.fit(x, y)\n"
      ],
      "metadata": {
        "colab": {
          "base_uri": "https://localhost:8080/",
          "height": 75
        },
        "id": "GKPoQxyBQlrb",
        "outputId": "82585971-2c31-4648-d0c6-78ceefdf2a2d"
      },
      "execution_count": 9,
      "outputs": [
        {
          "output_type": "execute_result",
          "data": {
            "text/plain": [
              "DecisionTreeRegressor(random_state=0)"
            ],
            "text/html": [
              "<style>#sk-container-id-1 {color: black;background-color: white;}#sk-container-id-1 pre{padding: 0;}#sk-container-id-1 div.sk-toggleable {background-color: white;}#sk-container-id-1 label.sk-toggleable__label {cursor: pointer;display: block;width: 100%;margin-bottom: 0;padding: 0.3em;box-sizing: border-box;text-align: center;}#sk-container-id-1 label.sk-toggleable__label-arrow:before {content: \"▸\";float: left;margin-right: 0.25em;color: #696969;}#sk-container-id-1 label.sk-toggleable__label-arrow:hover:before {color: black;}#sk-container-id-1 div.sk-estimator:hover label.sk-toggleable__label-arrow:before {color: black;}#sk-container-id-1 div.sk-toggleable__content {max-height: 0;max-width: 0;overflow: hidden;text-align: left;background-color: #f0f8ff;}#sk-container-id-1 div.sk-toggleable__content pre {margin: 0.2em;color: black;border-radius: 0.25em;background-color: #f0f8ff;}#sk-container-id-1 input.sk-toggleable__control:checked~div.sk-toggleable__content {max-height: 200px;max-width: 100%;overflow: auto;}#sk-container-id-1 input.sk-toggleable__control:checked~label.sk-toggleable__label-arrow:before {content: \"▾\";}#sk-container-id-1 div.sk-estimator input.sk-toggleable__control:checked~label.sk-toggleable__label {background-color: #d4ebff;}#sk-container-id-1 div.sk-label input.sk-toggleable__control:checked~label.sk-toggleable__label {background-color: #d4ebff;}#sk-container-id-1 input.sk-hidden--visually {border: 0;clip: rect(1px 1px 1px 1px);clip: rect(1px, 1px, 1px, 1px);height: 1px;margin: -1px;overflow: hidden;padding: 0;position: absolute;width: 1px;}#sk-container-id-1 div.sk-estimator {font-family: monospace;background-color: #f0f8ff;border: 1px dotted black;border-radius: 0.25em;box-sizing: border-box;margin-bottom: 0.5em;}#sk-container-id-1 div.sk-estimator:hover {background-color: #d4ebff;}#sk-container-id-1 div.sk-parallel-item::after {content: \"\";width: 100%;border-bottom: 1px solid gray;flex-grow: 1;}#sk-container-id-1 div.sk-label:hover label.sk-toggleable__label {background-color: #d4ebff;}#sk-container-id-1 div.sk-serial::before {content: \"\";position: absolute;border-left: 1px solid gray;box-sizing: border-box;top: 0;bottom: 0;left: 50%;z-index: 0;}#sk-container-id-1 div.sk-serial {display: flex;flex-direction: column;align-items: center;background-color: white;padding-right: 0.2em;padding-left: 0.2em;position: relative;}#sk-container-id-1 div.sk-item {position: relative;z-index: 1;}#sk-container-id-1 div.sk-parallel {display: flex;align-items: stretch;justify-content: center;background-color: white;position: relative;}#sk-container-id-1 div.sk-item::before, #sk-container-id-1 div.sk-parallel-item::before {content: \"\";position: absolute;border-left: 1px solid gray;box-sizing: border-box;top: 0;bottom: 0;left: 50%;z-index: -1;}#sk-container-id-1 div.sk-parallel-item {display: flex;flex-direction: column;z-index: 1;position: relative;background-color: white;}#sk-container-id-1 div.sk-parallel-item:first-child::after {align-self: flex-end;width: 50%;}#sk-container-id-1 div.sk-parallel-item:last-child::after {align-self: flex-start;width: 50%;}#sk-container-id-1 div.sk-parallel-item:only-child::after {width: 0;}#sk-container-id-1 div.sk-dashed-wrapped {border: 1px dashed gray;margin: 0 0.4em 0.5em 0.4em;box-sizing: border-box;padding-bottom: 0.4em;background-color: white;}#sk-container-id-1 div.sk-label label {font-family: monospace;font-weight: bold;display: inline-block;line-height: 1.2em;}#sk-container-id-1 div.sk-label-container {text-align: center;}#sk-container-id-1 div.sk-container {/* jupyter's `normalize.less` sets `[hidden] { display: none; }` but bootstrap.min.css set `[hidden] { display: none !important; }` so we also need the `!important` here to be able to override the default hidden behavior on the sphinx rendered scikit-learn.org. See: https://github.com/scikit-learn/scikit-learn/issues/21755 */display: inline-block !important;position: relative;}#sk-container-id-1 div.sk-text-repr-fallback {display: none;}</style><div id=\"sk-container-id-1\" class=\"sk-top-container\"><div class=\"sk-text-repr-fallback\"><pre>DecisionTreeRegressor(random_state=0)</pre><b>In a Jupyter environment, please rerun this cell to show the HTML representation or trust the notebook. <br />On GitHub, the HTML representation is unable to render, please try loading this page with nbviewer.org.</b></div><div class=\"sk-container\" hidden><div class=\"sk-item\"><div class=\"sk-estimator sk-toggleable\"><input class=\"sk-toggleable__control sk-hidden--visually\" id=\"sk-estimator-id-1\" type=\"checkbox\" checked><label for=\"sk-estimator-id-1\" class=\"sk-toggleable__label sk-toggleable__label-arrow\">DecisionTreeRegressor</label><div class=\"sk-toggleable__content\"><pre>DecisionTreeRegressor(random_state=0)</pre></div></div></div></div></div>"
            ]
          },
          "metadata": {},
          "execution_count": 9
        }
      ]
    },
    {
      "cell_type": "code",
      "source": [
        "y_pred = regressor.predict(x)"
      ],
      "metadata": {
        "id": "YE9qbPBQQnaO"
      },
      "execution_count": 10,
      "outputs": []
    },
    {
      "cell_type": "code",
      "source": [
        "plt.scatter(x, y, color = 'red')\n",
        "plt.plot(x, regressor.predict(x), color = 'blue')\n",
        "plt.xlabel('Package')\n",
        "plt.ylabel('Sales')\n",
        "plt.show()"
      ],
      "metadata": {
        "colab": {
          "base_uri": "https://localhost:8080/",
          "height": 279
        },
        "id": "ft-Ob5TXREVR",
        "outputId": "4e467539-ab2e-4d1c-bc5d-d29df52d2022"
      },
      "execution_count": 11,
      "outputs": [
        {
          "output_type": "display_data",
          "data": {
            "text/plain": [
              "<Figure size 432x288 with 1 Axes>"
            ],
            "image/png": "[encoded data removed]"
          },
          "metadata": {
            "needs_background": "light"
          }
        }
      ]
    },
    {
      "cell_type": "code",
      "source": [],
      "metadata": {
        "id": "cZ6rjIc0RHlT"
      },
      "execution_count": null,
      "outputs": []
    }
  ]
}